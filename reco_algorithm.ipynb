{
 "cells": [
  {
   "cell_type": "code",
   "execution_count": 1,
   "id": "8fdb79a0-93b1-4194-9c48-ff89a3e2c3fe",
   "metadata": {},
   "outputs": [
    {
     "name": "stdout",
     "output_type": "stream",
     "text": [
      "NL를 기준으로 유사한 국가 추천: ['IE', 'MT', 'MX']\n"
     ]
    }
   ],
   "source": [
    "import pandas as pd\n",
    "import numpy as np\n",
    "from sklearn.metrics.pairwise import cosine_similarity\n",
    "\n",
    "df_data = pd.read_csv('./al_data.csv')\n",
    "\n",
    "# ISO 코드(b_iso)를 기준으로 국가별 정보를 합산\n",
    "df_sum = df_data.groupby('b_iso').sum()\n",
    "\n",
    "# ISO 코드를 기반으로 유사한 국가를 추천하는 함수 정의\n",
    "def recommend_similar_countries(target_iso, top_n=3):\n",
    "    # 해당 ISO 코드의 인덱스 가져오기\n",
    "    index = df_sum.index.get_loc(target_iso)\n",
    "    \n",
    "    # 해당 ISO 코드와 다른 국가들 간의 코사인 유사도 계산\n",
    "    similarities = cosine_similarity(df_sum.values[index:index+1], df_sum.values)[0]\n",
    "    \n",
    "    # 유사도가 높은 순서로 정렬하여 top_n개의 인덱스 추출 (자기 자신은 제외)\n",
    "    similar_indices = similarities.argsort()[-top_n-1:-1][::-1]\n",
    "    \n",
    "    # 추천할 국가들의 ISO 코드 반환\n",
    "    recommended_countries = df_sum.iloc[similar_indices].index.tolist()\n",
    "    \n",
    "    return recommended_countries\n",
    "\n",
    "target_iso = 'NL'\n",
    "recommended_countries = recommend_similar_countries(target_iso, top_n=3)\n",
    "\n",
    "print(f\"{target_iso}를 기준으로 유사한 국가 추천:\", recommended_countries)\n"
   ]
  },
  {
   "cell_type": "code",
   "execution_count": 12,
   "id": "b5bbc2e2-7f07-4a80-843a-cc46326116d9",
   "metadata": {},
   "outputs": [],
   "source": [
    "import pandas as pd\n",
    "\n",
    "# cp949 인코딩으로 파일 읽기\n",
    "df = pd.read_csv(\"countries.csv\", encoding='cp949')\n",
    "\n",
    "# utf-8 인코딩으로 파일 저장\n",
    "df.to_csv(\"countries_utf8.csv\", encoding='utf-8', index=False)\n"
   ]
  }
 ],
 "metadata": {
  "kernelspec": {
   "display_name": "Python 3 (ipykernel)",
   "language": "python",
   "name": "python3"
  },
  "language_info": {
   "codemirror_mode": {
    "name": "ipython",
    "version": 3
   },
   "file_extension": ".py",
   "mimetype": "text/x-python",
   "name": "python",
   "nbconvert_exporter": "python",
   "pygments_lexer": "ipython3",
   "version": "3.11.7"
  }
 },
 "nbformat": 4,
 "nbformat_minor": 5
}
